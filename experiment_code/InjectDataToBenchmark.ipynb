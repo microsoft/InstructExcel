{
 "cells": [
  {
   "cell_type": "code",
   "execution_count": 1,
   "id": "6c0bdafd",
   "metadata": {},
   "outputs": [],
   "source": [
    "import openai\n",
    "import math\n",
    "import json\n",
    "import pprint\n",
    "import os\n",
    "import pandas as pd\n",
    "import time\n",
    "import tqdm\n",
    "import random\n",
    "import csv\n",
    "from scipy.stats import ttest_ind"
   ]
  },
  {
   "cell_type": "code",
   "execution_count": null,
   "id": "912bbd12",
   "metadata": {},
   "outputs": [],
   "source": [
    "!pip install ./bleurt"
   ]
  },
  {
   "cell_type": "code",
   "execution_count": null,
   "id": "2e672a4e",
   "metadata": {},
   "outputs": [],
   "source": [
    "!pip install openai"
   ]
  },
  {
   "cell_type": "code",
   "execution_count": null,
   "id": "825f72ee",
   "metadata": {},
   "outputs": [],
   "source": [
    "model_name = 'gpt-3.5-turbo'\n",
    "os.environ[\"openai_key\"]='<KEY>'\n",
    "setting_num = 0"
   ]
  },
  {
   "cell_type": "code",
   "execution_count": null,
   "id": "b7f2de45",
   "metadata": {},
   "outputs": [],
   "source": [
    "openai.api_key=os.environ[\"openai_key\"]\n",
    "\n",
    "if setting_num == 0:\n",
    "    num_exs = 0\n",
    "    instruction_idx = 0\n",
    "    instruction = 'Generate a function with excel script to execute the action given below in natural language'\n",
    "if setting_num == 1:\n",
    "    num_exs = 3\n",
    "    instruction_idx = 0\n",
    "    instruction = 'Generate a function with excel script to execute the action given below in natural language'\n",
    "if setting_num == 2:\n",
    "    num_exs = 10\n",
    "    instruction_idx = 0\n",
    "    instruction = 'Generate a function with excel script to execute the action given below in natural language'\n",
    "if setting_num == 3:\n",
    "    num_exs = 10\n",
    "    instruction_idx = 1\n",
    "    instruction = 'Generate a function with excel script to execute the action given below in NL. You also need to generate comment describing the operation you are performing. Make sure to generate a valid excel operation and pass appropriate parameters as provided in the action information. Simple solution is preferred over a complex one'\n",
    "\n",
    "\n",
    "random.seed(num_exs + 10*instruction_idx)"
   ]
  },
  {
   "cell_type": "code",
   "execution_count": null,
   "id": "a779306b",
   "metadata": {},
   "outputs": [],
   "source": [
    "with open(\"../instruct_excel_benchmark.json\") as f:\n",
    "    full_bench_no_data = json.load(f)"
   ]
  },
  {
   "cell_type": "code",
   "execution_count": null,
   "id": "a651e253",
   "metadata": {},
   "outputs": [],
   "source": [
    "#  Fill the 'data_string' field in the benchmark data\n",
    "for idx, ex in enumerate(tqdm.tqdm(full_bench_no_data)):\n",
    "    if idx % 100 == 0:\n",
    "        with open(\"full_bench_with_data.json\", 'w') as f:\n",
    "            json.dump(full_bench_no_data, f)\n",
    "    if 'data_string' not in ex:\n",
    "        file_url = ex['metadata']['filename']\n",
    "        print(fname, file_url)\n",
    "\n",
    "        # Get the data from the file_url\n",
    "        try:\n",
    "            if file_url != \"missing\":\n",
    "                os.system(\"curl %s --output temp.xlsx\" % file_url)\n",
    "\n",
    "                xl = pd.ExcelFile('temp.xlsx')\n",
    "\n",
    "                datastr = \"\"\n",
    "                for sheetname in xl.sheet_names:\n",
    "                    df = xl.parse(sheetname)\n",
    "                    df_str = df.to_string()\n",
    "                    datastr += \"SHEETNAME: \" + sheetname + \"\\n\\nSHEET:\\n\" + df_str + \"\\n\\n\"\n",
    "\n",
    "                ex['data_string'] = datastr\n",
    "            else:\n",
    "                ex['data_string'] = \"<DATA NOT AVAILABLE>\"\n",
    "        except:\n",
    "            ex['data_string'] = \"<DATA NOT AVAILABLE>\""
   ]
  },
  {
   "cell_type": "code",
   "execution_count": null,
   "id": "d7b2ef1e",
   "metadata": {},
   "outputs": [],
   "source": [
    "with open(\"full_bench_with_data.json\", 'rb') as f:\n",
    "    full_bench = json.load(f)\n",
    "    \n",
    "print(len(full_bench))\n",
    "\n",
    "full_bench_train = []\n",
    "full_bench_dev = []\n",
    "full_bench_test = []\n",
    "    \n",
    "for ex in full_bench:\n",
    "    if len(full_bench_test) < 1000 and ex['data_string'] not in [\"<DATA NOT AVAILABLE>\", \"<DATA NOT AVAILABLE\"]:\n",
    "        full_bench_test.append(ex)\n",
    "    elif len(full_bench_dev) < 1000 and ex['data_string'] not in [\"<DATA NOT AVAILABLE>\", \"<DATA NOT AVAILABLE\"]:\n",
    "        full_bench_dev.append(ex)\n",
    "    elif ex['data_string'] not in [\"<DATA NOT AVAILABLE>\", \"<DATA NOT AVAILABLE\"]:\n",
    "        full_bench_train.append(ex)\n",
    "        \n",
    "print(len(full_bench_train))\n",
    "print(len(full_bench_dev))\n",
    "print(len(full_bench_test))\n",
    "\n",
    "with open(\"full_bench_train.json\", 'w') as f:\n",
    "    json.dump(full_bench_train, f)\n",
    "    \n",
    "with open(\"full_bench_dev.json\", 'w') as f:\n",
    "    json.dump(full_bench_dev, f)\n",
    "    \n",
    "with open(\"full_bench_test.json\", 'w') as f:\n",
    "    json.dump(full_bench_test, f)"
   ]
  }
 ],
 "metadata": {
  "kernelspec": {
   "display_name": "Python 3 (ipykernel)",
   "language": "python",
   "name": "python3"
  },
  "language_info": {
   "codemirror_mode": {
    "name": "ipython",
    "version": 3
   },
   "file_extension": ".py",
   "mimetype": "text/x-python",
   "name": "python",
   "nbconvert_exporter": "python",
   "pygments_lexer": "ipython3",
   "version": "3.9.13"
  }
 },
 "nbformat": 4,
 "nbformat_minor": 5
}
